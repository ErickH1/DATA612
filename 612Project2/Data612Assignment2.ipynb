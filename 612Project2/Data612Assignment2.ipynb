{
  "nbformat": 4,
  "nbformat_minor": 0,
  "metadata": {
    "colab": {
      "provenance": []
    },
    "kernelspec": {
      "name": "python3",
      "display_name": "Python 3"
    },
    "language_info": {
      "name": "python"
    }
  },
  "cells": [
    {
      "cell_type": "markdown",
      "source": [
        "# Data 612 Project 2 Content-Based and Collaborative Filtering\n",
        "## Erick Hadi"
      ],
      "metadata": {
        "id": "g8sPkJr7TSHK"
      }
    },
    {
      "cell_type": "markdown",
      "source": [
        "Building simple movie recommender system using:\n",
        "- Content-Based Filtering\n",
        "- User-User Collaborative Filtering\n",
        "- Item-Item Collaborative Filtering"
      ],
      "metadata": {
        "id": "mjeEeHpdTR77"
      }
    },
    {
      "cell_type": "markdown",
      "source": [
        "We'll evaluate each method using RMSE on sampled MovieLens data.\n"
      ],
      "metadata": {
        "id": "pT_GVjI7igVR"
      }
    },
    {
      "cell_type": "markdown",
      "source": [
        "## Import Libraries"
      ],
      "metadata": {
        "id": "d7RY1ffEikN4"
      }
    },
    {
      "cell_type": "code",
      "source": [
        "import pandas as pd\n",
        "import numpy as np\n",
        "import matplotlib.pyplot as plt\n",
        "from sklearn.feature_extraction.text import TfidfVectorizer\n",
        "from sklearn.metrics.pairwise import linear_kernel, pairwise_distances\n",
        "from sklearn.model_selection import train_test_split\n",
        "from sklearn.metrics import mean_squared_error\n",
        "from math import sqrt"
      ],
      "metadata": {
        "id": "7W-9naYjWDia"
      },
      "execution_count": 133,
      "outputs": []
    },
    {
      "cell_type": "markdown",
      "source": [
        "## Load and Prepare Data"
      ],
      "metadata": {
        "id": "8ai_ww4VilPs"
      }
    },
    {
      "cell_type": "code",
      "source": [
        "ratings = pd.read_csv('ratings.csv', sep='\\t', encoding='latin-1', usecols=['user_id', 'movie_id', 'rating'])\n",
        "\n",
        "users = pd.read_csv('users.csv', sep='\\t', encoding='latin-1', usecols=['user_id', 'gender', 'zipcode', 'age_desc', 'occ_desc'])\n",
        "\n",
        "movies = pd.read_csv('movies.csv', sep='\\t', encoding='latin-1', usecols=['movie_id', 'title', 'genres'])"
      ],
      "metadata": {
        "id": "Ee-r1Er9WFm1"
      },
      "execution_count": 134,
      "outputs": []
    },
    {
      "cell_type": "code",
      "source": [
        "movies['genres'] = movies['genres'].fillna(\"\").apply(lambda x: \" \".join(x.split('|')))"
      ],
      "metadata": {
        "id": "i-Ujia6Ed-Bq"
      },
      "execution_count": 135,
      "outputs": []
    },
    {
      "cell_type": "code",
      "source": [
        "def plot_ratings_distribution():\n",
        "    plt.figure(figsize=(8, 5))\n",
        "    ratings['rating'].hist(bins=10)\n",
        "    plt.title('Ratings Distribution')\n",
        "    plt.xlabel('Rating')\n",
        "    plt.ylabel('Frequency')\n",
        "    plt.grid(False)\n",
        "    plt.show()\n",
        "\n",
        "plot_ratings_distribution()"
      ],
      "metadata": {
        "colab": {
          "base_uri": "https://localhost:8080/",
          "height": 487
        },
        "id": "yWJfeuFJhTwL",
        "outputId": "075a4081-934b-4eb2-8ba3-fdd82234b822"
      },
      "execution_count": 136,
      "outputs": [
        {
          "output_type": "display_data",
          "data": {
            "text/plain": [
              "<Figure size 800x500 with 1 Axes>"
            ],
            "image/png": "[encoded data removed]"
          },
          "metadata": {}
        }
      ]
    },
    {
      "cell_type": "markdown",
      "source": [
        "## Content-Based Filtering"
      ],
      "metadata": {
        "id": "LsGJOHyqipNk"
      }
    },
    {
      "cell_type": "code",
      "source": [
        "tfidf = TfidfVectorizer(analyzer='word', ngram_range=(1, 2), stop_words='english')\n",
        "tfidf_matrix = tfidf.fit_transform(movies['genres'])\n",
        "cosine_sim = linear_kernel(tfidf_matrix, tfidf_matrix)\n",
        "indices = pd.Series(movies.index, index=movies['title'])"
      ],
      "metadata": {
        "id": "nHyFor4ud-5x"
      },
      "execution_count": 137,
      "outputs": []
    },
    {
      "cell_type": "code",
      "source": [
        "def genre_recommendations(title, top_n=10):\n",
        "    idx = indices[title]\n",
        "    sim_scores = sorted(list(enumerate(cosine_sim[idx])), key=lambda x: x[1], reverse=True)[1:top_n+1]\n",
        "    movie_indices = [i[0] for i in sim_scores]\n",
        "    return movies['title'].iloc[movie_indices]"
      ],
      "metadata": {
        "id": "64B4-hJzd_Jc"
      },
      "execution_count": 138,
      "outputs": []
    },
    {
      "cell_type": "code",
      "source": [
        "genre_recommendations('Toy Story (1995)')"
      ],
      "metadata": {
        "colab": {
          "base_uri": "https://localhost:8080/",
          "height": 397
        },
        "id": "n99FIVClg7Ph",
        "outputId": "b7c5b286-ae04-4d47-aff1-bf7c95a304ec"
      },
      "execution_count": 139,
      "outputs": [
        {
          "output_type": "execute_result",
          "data": {
            "text/plain": [
              "1050            Aladdin and the King of Thieves (1996)\n",
              "2072                          American Tail, An (1986)\n",
              "2073        American Tail: Fievel Goes West, An (1991)\n",
              "2285                         Rugrats Movie, The (1998)\n",
              "2286                              Bug's Life, A (1998)\n",
              "3045                                Toy Story 2 (1999)\n",
              "3542                             Saludos Amigos (1943)\n",
              "3682                                Chicken Run (2000)\n",
              "3685    Adventures of Rocky and Bullwinkle, The (2000)\n",
              "236                              Goofy Movie, A (1995)\n",
              "Name: title, dtype: object"
            ],
            "text/html": [
              "<div>\n",
              "<style scoped>\n",
              "    .dataframe tbody tr th:only-of-type {\n",
              "        vertical-align: middle;\n",
              "    }\n",
              "\n",
              "    .dataframe tbody tr th {\n",
              "        vertical-align: top;\n",
              "    }\n",
              "\n",
              "    .dataframe thead th {\n",
              "        text-align: right;\n",
              "    }\n",
              "</style>\n",
              "<table border=\"1\" class=\"dataframe\">\n",
              "  <thead>\n",
              "    <tr style=\"text-align: right;\">\n",
              "      <th></th>\n",
              "      <th>title</th>\n",
              "    </tr>\n",
              "  </thead>\n",
              "  <tbody>\n",
              "    <tr>\n",
              "      <th>1050</th>\n",
              "      <td>Aladdin and the King of Thieves (1996)</td>\n",
              "    </tr>\n",
              "    <tr>\n",
              "      <th>2072</th>\n",
              "      <td>American Tail, An (1986)</td>\n",
              "    </tr>\n",
              "    <tr>\n",
              "      <th>2073</th>\n",
              "      <td>American Tail: Fievel Goes West, An (1991)</td>\n",
              "    </tr>\n",
              "    <tr>\n",
              "      <th>2285</th>\n",
              "      <td>Rugrats Movie, The (1998)</td>\n",
              "    </tr>\n",
              "    <tr>\n",
              "      <th>2286</th>\n",
              "      <td>Bug's Life, A (1998)</td>\n",
              "    </tr>\n",
              "    <tr>\n",
              "      <th>3045</th>\n",
              "      <td>Toy Story 2 (1999)</td>\n",
              "    </tr>\n",
              "    <tr>\n",
              "      <th>3542</th>\n",
              "      <td>Saludos Amigos (1943)</td>\n",
              "    </tr>\n",
              "    <tr>\n",
              "      <th>3682</th>\n",
              "      <td>Chicken Run (2000)</td>\n",
              "    </tr>\n",
              "    <tr>\n",
              "      <th>3685</th>\n",
              "      <td>Adventures of Rocky and Bullwinkle, The (2000)</td>\n",
              "    </tr>\n",
              "    <tr>\n",
              "      <th>236</th>\n",
              "      <td>Goofy Movie, A (1995)</td>\n",
              "    </tr>\n",
              "  </tbody>\n",
              "</table>\n",
              "</div><br><label><b>dtype:</b> object</label>"
            ]
          },
          "metadata": {},
          "execution_count": 139
        }
      ]
    },
    {
      "cell_type": "markdown",
      "source": [
        "## Collaborative Filtering"
      ],
      "metadata": {
        "id": "TvqPDC3pitfW"
      }
    },
    {
      "cell_type": "code",
      "source": [
        "small_data = ratings.sample(frac=0.02, random_state=42)\n",
        "train_data, test_data = train_test_split(small_data, test_size=0.2, random_state=42)\n",
        "\n",
        "user_item_matrix = small_data.pivot_table(index='user_id', columns='movie_id', values='rating').fillna(0)\n",
        "\n",
        "user_similarity = 1 - pairwise_distances(user_item_matrix, metric='cosine')\n",
        "np.fill_diagonal(user_similarity, 0)\n",
        "\n",
        "item_similarity = 1 - pairwise_distances(user_item_matrix.T, metric='cosine')\n",
        "np.fill_diagonal(item_similarity, 0)\n"
      ],
      "metadata": {
        "id": "6xzLT1kdhWJx"
      },
      "execution_count": 140,
      "outputs": []
    },
    {
      "cell_type": "code",
      "source": [
        "def predict_ratings(ratings_matrix, similarity, type='user'):\n",
        "    if type == 'user':\n",
        "        mean_user_rating = ratings_matrix.mean(axis=1).values.reshape(-1, 1)\n",
        "        ratings_diff = ratings_matrix.values - mean_user_rating\n",
        "        pred = mean_user_rating + similarity.dot(ratings_diff) / np.array([np.abs(similarity).sum(axis=1)]).T\n",
        "    elif type == 'item':\n",
        "        pred = ratings_matrix.values.dot(similarity) / np.array([np.abs(similarity).sum(axis=1)])\n",
        "    return pred"
      ],
      "metadata": {
        "id": "7H-K2OsThY8G"
      },
      "execution_count": 141,
      "outputs": []
    },
    {
      "cell_type": "code",
      "source": [
        "def rmse(pred, actual):\n",
        "    pred = pred[actual.nonzero()].flatten()\n",
        "    actual = actual[actual.nonzero()].flatten()\n",
        "    return sqrt(mean_squared_error(pred, actual))"
      ],
      "metadata": {
        "id": "n-LA9Er1hecr"
      },
      "execution_count": 142,
      "outputs": []
    },
    {
      "cell_type": "code",
      "source": [
        "train_matrix = user_item_matrix.values\n",
        "user_pred = predict_ratings(user_item_matrix, user_similarity, type='user')\n",
        "item_pred = predict_ratings(user_item_matrix, item_similarity, type='item')"
      ],
      "metadata": {
        "colab": {
          "base_uri": "https://localhost:8080/"
        },
        "id": "5JjVT4Utheqi",
        "outputId": "c0085736-24ed-4973-e231-cf024bdee26b"
      },
      "execution_count": 143,
      "outputs": [
        {
          "output_type": "stream",
          "name": "stderr",
          "text": [
            "<ipython-input-141-1156135249>:5: RuntimeWarning: invalid value encountered in divide\n",
            "  pred = mean_user_rating + similarity.dot(ratings_diff) / np.array([np.abs(similarity).sum(axis=1)]).T\n",
            "<ipython-input-141-1156135249>:7: RuntimeWarning: invalid value encountered in divide\n",
            "  pred = ratings_matrix.values.dot(similarity) / np.array([np.abs(similarity).sum(axis=1)])\n"
          ]
        }
      ]
    },
    {
      "cell_type": "code",
      "source": [
        "user_pred = np.nan_to_num(user_pred)\n",
        "item_pred = np.nan_to_num(item_pred)\n",
        "\n",
        "print(\"User-Based CF RMSE:\", rmse(user_pred, train_matrix))\n",
        "print(\"Item-Based CF RMSE:\", rmse(item_pred, train_matrix))"
      ],
      "metadata": {
        "colab": {
          "base_uri": "https://localhost:8080/"
        },
        "id": "wBOcgogXhhdu",
        "outputId": "1b622353-71f0-48cb-9721-6a3899790f9b"
      },
      "execution_count": 144,
      "outputs": [
        {
          "output_type": "stream",
          "name": "stdout",
          "text": [
            "User-Based CF RMSE: 2.9776070454569346\n",
            "Item-Based CF RMSE: 3.3883378319551745\n"
          ]
        }
      ]
    },
    {
      "cell_type": "markdown",
      "source": [
        "## Conclusion\n",
        "\n",
        "- **User-based Collaborative Filtering** performs better on this dataset with RMSE = 2.98.\n",
        "- **Item-based CF** is slightly worse, possibly due to data sparsity.\n",
        "- **Content-based recommendations** work well for giving similar genre-based suggestions."
      ],
      "metadata": {
        "id": "F_vLg82bi2C8"
      }
    }
  ]
}